{
 "cells": [
  {
   "cell_type": "markdown",
   "source": [
    "# Stock price prediction with LSTM (Long Short Term Memory)"
   ],
   "metadata": {
    "collapsed": false
   },
   "id": "20b69c406d3608df"
  },
  {
   "cell_type": "code",
   "outputs": [],
   "source": [
    "import numpy as np"
   ],
   "metadata": {
    "collapsed": false,
    "ExecuteTime": {
     "end_time": "2024-01-06T15:50:10.830828Z",
     "start_time": "2024-01-06T15:50:10.829099Z"
    }
   },
   "id": "cdcc2fbc8ef5ebc6",
   "execution_count": 19
  },
  {
   "cell_type": "code",
   "outputs": [],
   "source": [],
   "metadata": {
    "collapsed": false
   },
   "id": "f658711645f53b4f"
  }
 ],
 "metadata": {
  "kernelspec": {
   "display_name": "Python 3",
   "language": "python",
   "name": "python3"
  },
  "language_info": {
   "codemirror_mode": {
    "name": "ipython",
    "version": 2
   },
   "file_extension": ".py",
   "mimetype": "text/x-python",
   "name": "python",
   "nbconvert_exporter": "python",
   "pygments_lexer": "ipython2",
   "version": "2.7.6"
  }
 },
 "nbformat": 4,
 "nbformat_minor": 5
}
