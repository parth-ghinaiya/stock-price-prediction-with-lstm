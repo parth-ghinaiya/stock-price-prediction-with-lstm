{
 "cells": [
  {
   "cell_type": "markdown",
   "source": [
    "# Stock price prediction with LSTM (Long Short Term Memory)"
   ],
   "metadata": {
    "collapsed": false
   },
   "id": "20b69c406d3608df"
  },
  {
   "cell_type": "markdown",
   "source": [
    "### Install packages "
   ],
   "metadata": {
    "collapsed": false
   },
   "id": "e988994efff1f6ae"
  },
  {
   "cell_type": "code",
   "outputs": [
    {
     "name": "stdout",
     "output_type": "stream",
     "text": [
      "Requirement already satisfied: pip in /opt/homebrew/Caskroom/miniforge/base/lib/python3.10/site-packages (23.3.2)\r\n",
      "Requirement already satisfied: yfinance in /opt/homebrew/Caskroom/miniforge/base/lib/python3.10/site-packages (0.2.18)\r\n",
      "Requirement already satisfied: pandas>=1.3.0 in /opt/homebrew/Caskroom/miniforge/base/lib/python3.10/site-packages (from yfinance) (1.5.3)\r\n",
      "Requirement already satisfied: numpy>=1.16.5 in /opt/homebrew/Caskroom/miniforge/base/lib/python3.10/site-packages (from yfinance) (1.24.4)\r\n",
      "Requirement already satisfied: requests>=2.26 in /opt/homebrew/Caskroom/miniforge/base/lib/python3.10/site-packages (from yfinance) (2.31.0)\r\n",
      "Requirement already satisfied: multitasking>=0.0.7 in /opt/homebrew/Caskroom/miniforge/base/lib/python3.10/site-packages (from yfinance) (0.0.11)\r\n",
      "Requirement already satisfied: lxml>=4.9.1 in /opt/homebrew/Caskroom/miniforge/base/lib/python3.10/site-packages (from yfinance) (4.9.2)\r\n",
      "Requirement already satisfied: appdirs>=1.4.4 in /opt/homebrew/Caskroom/miniforge/base/lib/python3.10/site-packages (from yfinance) (1.4.4)\r\n",
      "Requirement already satisfied: pytz>=2022.5 in /opt/homebrew/Caskroom/miniforge/base/lib/python3.10/site-packages (from yfinance) (2023.3)\r\n",
      "Requirement already satisfied: frozendict>=2.3.4 in /opt/homebrew/Caskroom/miniforge/base/lib/python3.10/site-packages (from yfinance) (2.3.8)\r\n",
      "Requirement already satisfied: cryptography>=3.3.2 in /opt/homebrew/Caskroom/miniforge/base/lib/python3.10/site-packages (from yfinance) (41.0.2)\r\n",
      "Requirement already satisfied: beautifulsoup4>=4.11.1 in /opt/homebrew/Caskroom/miniforge/base/lib/python3.10/site-packages (from yfinance) (4.12.2)\r\n",
      "Requirement already satisfied: html5lib>=1.1 in /opt/homebrew/Caskroom/miniforge/base/lib/python3.10/site-packages (from yfinance) (1.1)\r\n",
      "Requirement already satisfied: soupsieve>1.2 in /opt/homebrew/Caskroom/miniforge/base/lib/python3.10/site-packages (from beautifulsoup4>=4.11.1->yfinance) (2.4.1)\r\n",
      "Requirement already satisfied: cffi>=1.12 in /opt/homebrew/Caskroom/miniforge/base/lib/python3.10/site-packages (from cryptography>=3.3.2->yfinance) (1.15.1)\r\n",
      "Requirement already satisfied: six>=1.9 in /opt/homebrew/Caskroom/miniforge/base/lib/python3.10/site-packages (from html5lib>=1.1->yfinance) (1.16.0)\r\n",
      "Requirement already satisfied: webencodings in /opt/homebrew/Caskroom/miniforge/base/lib/python3.10/site-packages (from html5lib>=1.1->yfinance) (0.5.1)\r\n",
      "Requirement already satisfied: python-dateutil>=2.8.1 in /opt/homebrew/Caskroom/miniforge/base/lib/python3.10/site-packages (from pandas>=1.3.0->yfinance) (2.8.2)\r\n",
      "Requirement already satisfied: charset-normalizer<4,>=2 in /opt/homebrew/Caskroom/miniforge/base/lib/python3.10/site-packages (from requests>=2.26->yfinance) (3.2.0)\r\n",
      "Requirement already satisfied: idna<4,>=2.5 in /opt/homebrew/Caskroom/miniforge/base/lib/python3.10/site-packages (from requests>=2.26->yfinance) (3.4)\r\n",
      "Requirement already satisfied: urllib3<3,>=1.21.1 in /opt/homebrew/Caskroom/miniforge/base/lib/python3.10/site-packages (from requests>=2.26->yfinance) (1.26.16)\r\n",
      "Requirement already satisfied: certifi>=2017.4.17 in /opt/homebrew/Caskroom/miniforge/base/lib/python3.10/site-packages (from requests>=2.26->yfinance) (2023.5.7)\r\n",
      "Requirement already satisfied: pycparser in /opt/homebrew/Caskroom/miniforge/base/lib/python3.10/site-packages (from cffi>=1.12->cryptography>=3.3.2->yfinance) (2.21)\r\n"
     ]
    }
   ],
   "source": [
    "!pip install --upgrade pip\n",
    "!pip install yfinance"
   ],
   "metadata": {
    "collapsed": false,
    "ExecuteTime": {
     "end_time": "2024-01-06T16:08:11.007345Z",
     "start_time": "2024-01-06T16:08:08.983123Z"
    }
   },
   "id": "cdcc2fbc8ef5ebc6",
   "execution_count": 42
  },
  {
   "cell_type": "markdown",
   "source": [
    "### Import packages"
   ],
   "metadata": {
    "collapsed": false
   },
   "id": "eba1ff5664c6f515"
  },
  {
   "cell_type": "code",
   "outputs": [],
   "source": [
    "# fetch data and print stock data from yahoo finance api\n",
    "import yfinance as yf\n"
   ],
   "metadata": {
    "collapsed": false,
    "ExecuteTime": {
     "end_time": "2024-01-06T16:08:11.011571Z",
     "start_time": "2024-01-06T16:08:11.008020Z"
    }
   },
   "id": "f658711645f53b4f",
   "execution_count": 43
  },
  {
   "cell_type": "code",
   "outputs": [
    {
     "name": "stdout",
     "output_type": "stream",
     "text": [
      "[*********************100%%**********************]  1 of 1 completed\n",
      "                 Open       High        Low      Close  Adj Close   Volume\n",
      "Date                                                                      \n",
      "2002-07-01  57.974998  58.000000  56.775002  57.400002  36.968140   471000\n",
      "2002-07-02  57.000000  57.450001  55.750000  56.500000  36.388496   342572\n",
      "2002-07-03  56.450001  62.325001  56.450001  61.750000  39.769726  3909024\n",
      "2002-07-04  62.400002  65.224998  60.849998  63.150002  40.671402  4254082\n",
      "2002-07-05  63.450001  68.000000  62.775002  67.224998  43.295872  5105978\n",
      "(5340, 6)\n"
     ]
    }
   ],
   "source": [
    "# get stock data\n",
    "stock_data = yf.download('TATAELXSI.NS', start='2000-01-01', end='2023-12-31')\n",
    "print(stock_data.head())\n",
    "print(stock_data.shape)\n",
    "\n"
   ],
   "metadata": {
    "collapsed": false,
    "ExecuteTime": {
     "end_time": "2024-01-06T16:08:11.078215Z",
     "start_time": "2024-01-06T16:08:11.011775Z"
    }
   },
   "id": "297a7f0d791837fe",
   "execution_count": 44
  },
  {
   "cell_type": "code",
   "outputs": [],
   "source": [],
   "metadata": {
    "collapsed": false,
    "ExecuteTime": {
     "end_time": "2024-01-06T16:08:11.080566Z",
     "start_time": "2024-01-06T16:08:11.077945Z"
    }
   },
   "id": "73843f02933fa967",
   "execution_count": 44
  }
 ],
 "metadata": {
  "kernelspec": {
   "display_name": "Python 3",
   "language": "python",
   "name": "python3"
  },
  "language_info": {
   "codemirror_mode": {
    "name": "ipython",
    "version": 2
   },
   "file_extension": ".py",
   "mimetype": "text/x-python",
   "name": "python",
   "nbconvert_exporter": "python",
   "pygments_lexer": "ipython2",
   "version": "2.7.6"
  }
 },
 "nbformat": 4,
 "nbformat_minor": 5
}
